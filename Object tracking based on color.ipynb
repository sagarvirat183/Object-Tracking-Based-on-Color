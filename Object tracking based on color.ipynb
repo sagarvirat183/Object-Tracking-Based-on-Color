{
 "cells": [
  {
   "cell_type": "code",
   "execution_count": null,
   "metadata": {},
   "outputs": [],
   "source": [
    "!pip install pyautogui"
   ]
  },
  {
   "cell_type": "code",
   "execution_count": null,
   "metadata": {
    "collapsed": true
   },
   "outputs": [],
   "source": [
    "import cv2\n",
    "import imutils"
   ]
  },
  {
   "cell_type": "code",
   "execution_count": null,
   "metadata": {},
   "outputs": [],
   "source": [
    "#redLower(HueLower,StaurationLower,ValueLower)\n",
    "redLower = (157,93,203)\n",
    "redUpper = (179,255,255)\n",
    "camera = cv2.VideoCapture(0)\n",
    "\n",
    "while True:\n",
    "    (grabbed, frame) = camera.read()\n",
    "    frame = imutils.resize(frame,width=600,inter=4)\n",
    "   \n",
    "    blurred = cv2.GaussianBlur(frame,(11,11),0)\n",
    "    hsv = cv2.cvtColor(blurred,cv2.COLOR_BGR2HSV)\n",
    "    \n",
    "    mask = cv2.inRange(hsv,redLower,redUpper)\n",
    "    mask = cv2.erode(mask,None,iterations = 2)\n",
    "    mask = cv2.dilate(mask,None,iterations = 2)\n",
    "\n",
    "    cnts = cv2.findContours(mask.copy(),cv2.RETR_EXTERNAL,cv2.CHAIN_APPROX_SIMPLE)[-2]\n",
    "    center = None\n",
    "    if len(cnts)>0:\n",
    "        c=max(cnts,key=cv2.contourArea)\n",
    "        ((x,y),radius) = cv2.minEnclosingCircle(c)\n",
    "        M=cv2.moments(c)\n",
    "        center = (int(M[\"m10\"]/ M[\"m00\"]),int(M[\"m01\"]/M[\"m00\"]))\n",
    "        if radius>10:\n",
    "            cv2.circle(frame,(int(x),int(y)),int(radius),(0,255,255),2)\n",
    "            cv2.circle(frame,center,5,(0,0,255),-1)\n",
    "            print(center[0],radius)\n",
    "            if radius>250:\n",
    "                print(\"stop\")\n",
    "            else:\n",
    "                if(center[0]<150):\n",
    "                    print(\"Left\")\n",
    "                elif(center[0]>450):\n",
    "                    print(\"Right\")\n",
    "                elif(radius<250):\n",
    "                    print(\"Front\")\n",
    "                else:\n",
    "                    print(\"Stop\")\n",
    "                    \n",
    "                    \n",
    "    cv2.imshow(\"Frame\",frame)\n",
    "    key = cv2.waitKey(1) & 0xFF\n",
    "\n",
    "    if key == ord(\"q\"):\n",
    "        break\n",
    "camera.release()\n",
    "cv2.destroyAllWindows()\n",
    "                    \n",
    "                    \n",
    "                    \n",
    "                    \n",
    "    \n",
    "    "
   ]
  },
  {
   "cell_type": "code",
   "execution_count": null,
   "metadata": {
    "collapsed": true
   },
   "outputs": [],
   "source": []
  }
 ],
 "metadata": {
  "kernelspec": {
   "display_name": "Python 3",
   "language": "python",
   "name": "python3"
  },
  "language_info": {
   "codemirror_mode": {
    "name": "ipython",
    "version": 3
   },
   "file_extension": ".py",
   "mimetype": "text/x-python",
   "name": "python",
   "nbconvert_exporter": "python",
   "pygments_lexer": "ipython3",
   "version": "3.6.3"
  }
 },
 "nbformat": 4,
 "nbformat_minor": 2
}
